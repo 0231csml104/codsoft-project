 def chatbot_response(user_input):
    user_input = user_input.lower()  # Convert input to lowercase for case insensitivity

    # Define rules and responses
    if user_input == "hello" or user_input == "hi":
        return "Hello! How can I help you today?"
    elif "how are you" in user_input:
        return "I'm just a chatbot, but thanks for asking!"
    elif "your name" in user_input:
        return "I'm a chatbot, so I don't have a personal name."
    elif "thank you" in user_input or "thanks" in user_input:
        return "You're welcome!"
    elif "bye" in user_input or "goodbye" in user_input:
        return "Goodbye! Have a nice day."
    else:
        return "I'm sorry, I don't understand. Could you please rephrase or ask something else?"

# Main function to run the chatbot
def run_chatbot():
    print("Welcome! Ask me anything or say goodbye to exit.")

    while True:
        user_input = input("You: ")
        if user_input.lower() == "exit":
            print("Chatbot: Goodbye!")
            break
        response = chatbot_response(user_input)
        print("Chatbot:", response)

if __name__ == "__main__":
    run_chatbot()
